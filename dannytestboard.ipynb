{
 "cells": [
  {
   "cell_type": "code",
   "execution_count": 1,
   "metadata": {},
   "outputs": [],
   "source": [
    "import tkinter as tk\n",
    "from tkinter import ttk\n",
    "\n",
    "root=tk.Tk()\n",
    "root.title(\"pack() 測試\")\n",
    "root.geometry(\"220x100\")\n",
    "\n",
    "ttk.Button(root, text=\"南志鉉\").pack(side=tk.LEFT)\n",
    "ttk.Button(root, text=\"都敬秀\").pack(side=tk.LEFT)\n",
    "ttk.Button(root, text=\"百日的郎君\").pack(side=tk.LEFT)\n",
    "root.mainloop()"
   ]
  },
  {
   "cell_type": "code",
   "execution_count": 7,
   "metadata": {},
   "outputs": [
    {
     "ename": "TypeError",
     "evalue": "The object is not a PyHANDLE object",
     "output_type": "error",
     "traceback": [
      "\u001b[1;31m---------------------------------------------------------------------------\u001b[0m",
      "\u001b[1;31mTypeError\u001b[0m                                 Traceback (most recent call last)",
      "\u001b[1;32mc:\\workspace\\FGO_Scrip\\dannytestboard.ipynb Cell 2\u001b[0m in \u001b[0;36m<cell line: 11>\u001b[1;34m()\u001b[0m\n\u001b[0;32m      <a href='vscode-notebook-cell:/c%3A/workspace/FGO_Scrip/dannytestboard.ipynb#W1sZmlsZQ%3D%3D?line=7'>8</a>\u001b[0m     win32gui\u001b[39m.\u001b[39mEnumChildWindows(hwnd, callback, hwnds_dict)\n\u001b[0;32m      <a href='vscode-notebook-cell:/c%3A/workspace/FGO_Scrip/dannytestboard.ipynb#W1sZmlsZQ%3D%3D?line=8'>9</a>\u001b[0m     \u001b[39mreturn\u001b[39;00m hwnds_dict\n\u001b[1;32m---> <a href='vscode-notebook-cell:/c%3A/workspace/FGO_Scrip/dannytestboard.ipynb#W1sZmlsZQ%3D%3D?line=10'>11</a>\u001b[0m get_inner_windows(\u001b[39m'\u001b[39;49m\u001b[39m'\u001b[39;49m)\n",
      "\u001b[1;32mc:\\workspace\\FGO_Scrip\\dannytestboard.ipynb Cell 2\u001b[0m in \u001b[0;36mget_inner_windows\u001b[1;34m(hwnd)\u001b[0m\n\u001b[0;32m      <a href='vscode-notebook-cell:/c%3A/workspace/FGO_Scrip/dannytestboard.ipynb#W1sZmlsZQ%3D%3D?line=5'>6</a>\u001b[0m     \u001b[39mreturn\u001b[39;00m \u001b[39mTrue\u001b[39;00m\n\u001b[0;32m      <a href='vscode-notebook-cell:/c%3A/workspace/FGO_Scrip/dannytestboard.ipynb#W1sZmlsZQ%3D%3D?line=6'>7</a>\u001b[0m hwnds_dict \u001b[39m=\u001b[39m \u001b[39mdict\u001b[39m()\n\u001b[1;32m----> <a href='vscode-notebook-cell:/c%3A/workspace/FGO_Scrip/dannytestboard.ipynb#W1sZmlsZQ%3D%3D?line=7'>8</a>\u001b[0m win32gui\u001b[39m.\u001b[39;49mEnumChildWindows(hwnd, callback, hwnds_dict)\n\u001b[0;32m      <a href='vscode-notebook-cell:/c%3A/workspace/FGO_Scrip/dannytestboard.ipynb#W1sZmlsZQ%3D%3D?line=8'>9</a>\u001b[0m \u001b[39mreturn\u001b[39;00m hwnds_dict\n",
      "\u001b[1;31mTypeError\u001b[0m: The object is not a PyHANDLE object"
     ]
    }
   ],
   "source": [
    "import win32gui\n",
    "def get_inner_windows(hwnd):\n",
    "    def callback(hwnd, hwnds):\n",
    "        if win32gui.IsWindowVisible(hwnd) and win32gui.IsWindowEnabled(hwnd):\n",
    "            hwnds[win32gui.GetClassName(hwnd)] = hwnd\n",
    "        return True\n",
    "    hwnds_dict = dict()\n",
    "    win32gui.EnumChildWindows(hwnd, callback, hwnds_dict)\n",
    "    return hwnds_dict\n",
    "\n",
    "get_inner_windows('')"
   ]
  },
  {
   "cell_type": "code",
   "execution_count": 10,
   "metadata": {},
   "outputs": [
    {
     "data": {
      "text/plain": [
       "526456"
      ]
     },
     "execution_count": 10,
     "metadata": {},
     "output_type": "execute_result"
    }
   ],
   "source": [
    "win32gui.FindWindow(None, 'BlueStacks App Player')"
   ]
  },
  {
   "cell_type": "code",
   "execution_count": 11,
   "metadata": {},
   "outputs": [
    {
     "data": {
      "text/plain": [
       "[0, 0, 0, 0, 0, 0]"
      ]
     },
     "execution_count": 11,
     "metadata": {},
     "output_type": "execute_result"
    }
   ],
   "source": [
    "[0, 0, 0] + [0, 0, 0]"
   ]
  },
  {
   "cell_type": "code",
   "execution_count": 12,
   "metadata": {},
   "outputs": [
    {
     "ename": "NameError",
     "evalue": "name 'windll' is not defined",
     "output_type": "error",
     "traceback": [
      "\u001b[1;31m---------------------------------------------------------------------------\u001b[0m",
      "\u001b[1;31mNameError\u001b[0m                                 Traceback (most recent call last)",
      "\u001b[1;32mc:\\workspace\\FGO_Scrip\\dannytestboard.ipynb Cell 5\u001b[0m in \u001b[0;36m<cell line: 33>\u001b[1;34m()\u001b[0m\n\u001b[0;32m     <a href='vscode-notebook-cell:/c%3A/workspace/FGO_Scrip/dannytestboard.ipynb#W4sZmlsZQ%3D%3D?line=30'>31</a>\u001b[0m \u001b[39m#sample usage\u001b[39;00m\n\u001b[0;32m     <a href='vscode-notebook-cell:/c%3A/workspace/FGO_Scrip/dannytestboard.ipynb#W4sZmlsZQ%3D%3D?line=31'>32</a>\u001b[0m hwnd \u001b[39m=\u001b[39m win32gui\u001b[39m.\u001b[39mFindWindow(\u001b[39mNone\u001b[39;00m, \u001b[39m'\u001b[39m\u001b[39mBlueStacks App Player\u001b[39m\u001b[39m'\u001b[39m)\n\u001b[1;32m---> <a href='vscode-notebook-cell:/c%3A/workspace/FGO_Scrip/dannytestboard.ipynb#W4sZmlsZQ%3D%3D?line=32'>33</a>\u001b[0m takescreen(hwnd,\u001b[39m1024\u001b[39;49m,\u001b[39m768\u001b[39;49m,\u001b[39m'\u001b[39;49m\u001b[39mscreenshot.png\u001b[39;49m\u001b[39m'\u001b[39;49m)\n",
      "\u001b[1;32mc:\\workspace\\FGO_Scrip\\dannytestboard.ipynb Cell 5\u001b[0m in \u001b[0;36mtakescreen\u001b[1;34m(hwnd, width, height, filename)\u001b[0m\n\u001b[0;32m     <a href='vscode-notebook-cell:/c%3A/workspace/FGO_Scrip/dannytestboard.ipynb#W4sZmlsZQ%3D%3D?line=11'>12</a>\u001b[0m saveBitMap\u001b[39m.\u001b[39mCreateCompatibleBitmap(mfcDC, width, height)    \n\u001b[0;32m     <a href='vscode-notebook-cell:/c%3A/workspace/FGO_Scrip/dannytestboard.ipynb#W4sZmlsZQ%3D%3D?line=12'>13</a>\u001b[0m saveDC\u001b[39m.\u001b[39mSelectObject(saveBitMap)    \n\u001b[1;32m---> <a href='vscode-notebook-cell:/c%3A/workspace/FGO_Scrip/dannytestboard.ipynb#W4sZmlsZQ%3D%3D?line=13'>14</a>\u001b[0m result \u001b[39m=\u001b[39m windll\u001b[39m.\u001b[39muser32\u001b[39m.\u001b[39mPrintWindow(hwnd, saveDC\u001b[39m.\u001b[39mGetSafeHdc(), \u001b[39m2\u001b[39m)\n\u001b[0;32m     <a href='vscode-notebook-cell:/c%3A/workspace/FGO_Scrip/dannytestboard.ipynb#W4sZmlsZQ%3D%3D?line=14'>15</a>\u001b[0m bmpinfo \u001b[39m=\u001b[39m saveBitMap\u001b[39m.\u001b[39mGetInfo()\n\u001b[0;32m     <a href='vscode-notebook-cell:/c%3A/workspace/FGO_Scrip/dannytestboard.ipynb#W4sZmlsZQ%3D%3D?line=15'>16</a>\u001b[0m bmpstr \u001b[39m=\u001b[39m saveBitMap\u001b[39m.\u001b[39mGetBitmapBits(\u001b[39mTrue\u001b[39;00m)\n",
      "\u001b[1;31mNameError\u001b[0m: name 'windll' is not defined"
     ]
    }
   ],
   "source": [
    "import win32ui\n",
    "def takescreen(hwnd,width,height,filename):\n",
    "    #hwnd is window handle\n",
    "    #width, height are in pixels\n",
    "    #filename is name of screenshot file\n",
    "    \n",
    "    hwndDC = win32gui.GetWindowDC(hwnd)\n",
    "    mfcDC  = win32ui.CreateDCFromHandle(hwndDC)\n",
    "    saveDC = mfcDC.CreateCompatibleDC()\n",
    "   \n",
    "    saveBitMap = win32ui.CreateBitmap()\n",
    "    saveBitMap.CreateCompatibleBitmap(mfcDC, width, height)    \n",
    "    saveDC.SelectObject(saveBitMap)    \n",
    "    result = windll.user32.PrintWindow(hwnd, saveDC.GetSafeHdc(), 2)\n",
    "    bmpinfo = saveBitMap.GetInfo()\n",
    "    bmpstr = saveBitMap.GetBitmapBits(True)\n",
    "    im = Image.frombuffer(\n",
    "        'RGB',\n",
    "        (bmpinfo['bmWidth'], bmpinfo['bmHeight']),\n",
    "        bmpstr, 'raw', 'BGRX', 0, 1)\n",
    "    \n",
    "    win32gui.DeleteObject(saveBitMap.GetHandle())\n",
    "    saveDC.DeleteDC()\n",
    "    mfcDC.DeleteDC()\n",
    "    win32gui.ReleaseDC(hwnd, hwndDC)\n",
    "\n",
    "    if result == 1:\n",
    "        #PrintWindow Succeeded\n",
    "        im.save(filename)\n",
    "\n",
    "#sample usage\n",
    "hwnd = win32gui.FindWindow(None, 'BlueStacks App Player')\n",
    "takescreen(hwnd,1024,768,'screenshot.png') "
   ]
  },
  {
   "cell_type": "code",
   "execution_count": 42,
   "metadata": {},
   "outputs": [
    {
     "ename": "AttributeError",
     "evalue": "'NoneType' object has no attribute 'grabWindow'",
     "output_type": "error",
     "traceback": [
      "\u001b[1;31m---------------------------------------------------------------------------\u001b[0m",
      "\u001b[1;31mAttributeError\u001b[0m                            Traceback (most recent call last)",
      "\u001b[1;32mc:\\workspace\\FGO_Scrip\\dannytestboard.ipynb Cell 6\u001b[0m in \u001b[0;36m<cell line: 1>\u001b[1;34m()\u001b[0m\n\u001b[1;32m----> <a href='vscode-notebook-cell:/c%3A/workspace/FGO_Scrip/dannytestboard.ipynb#W5sZmlsZQ%3D%3D?line=0'>1</a>\u001b[0m screen\u001b[39m.\u001b[39;49mgrabWindow(hwnd)\n",
      "\u001b[1;31mAttributeError\u001b[0m: 'NoneType' object has no attribute 'grabWindow'"
     ]
    }
   ],
   "source": [
    "screen.grabWindow(hwnd)"
   ]
  },
  {
   "cell_type": "code",
   "execution_count": 1,
   "metadata": {},
   "outputs": [
    {
     "data": {
      "text/plain": [
       "True"
      ]
     },
     "execution_count": 1,
     "metadata": {},
     "output_type": "execute_result"
    }
   ],
   "source": [
    "from PyQt5.QtWidgets import QApplication\n",
    "import win32gui\n",
    "import sys\n",
    "#這個是擷取全螢幕的\n",
    "hwnd = 1968496\n",
    "app = QApplication(sys.argv)\n",
    "screen = QApplication.primaryScreen()\n",
    "img = screen.grabWindow(hwnd).toImage()\n",
    "img.save(\"screenshot.jpg\")"
   ]
  },
  {
   "cell_type": "code",
   "execution_count": 21,
   "metadata": {},
   "outputs": [
    {
     "name": "stderr",
     "output_type": "stream",
     "text": [
      "C:\\Users\\User\\AppData\\Local\\Temp\\ipykernel_6008\\2305851936.py:62: DeprecationWarning: The binary mode of fromstring is deprecated, as it behaves surprisingly on unicode inputs. Use frombuffer instead\n",
      "  img = np.fromstring(signedIntsArray, dtype='uint8')\n"
     ]
    },
    {
     "ename": "KeyboardInterrupt",
     "evalue": "",
     "output_type": "error",
     "traceback": [
      "\u001b[1;31m---------------------------------------------------------------------------\u001b[0m",
      "\u001b[1;31mKeyboardInterrupt\u001b[0m                         Traceback (most recent call last)",
      "\u001b[1;32mc:\\workspace\\FGO_Scrip\\dannytestboard.ipynb Cell 8\u001b[0m in \u001b[0;36m<cell line: 79>\u001b[1;34m()\u001b[0m\n\u001b[0;32m     <a href='vscode-notebook-cell:/c%3A/workspace/FGO_Scrip/dannytestboard.ipynb#X10sZmlsZQ%3D%3D?line=77'>78</a>\u001b[0m \u001b[39mwhile\u001b[39;00m \u001b[39mTrue\u001b[39;00m:\n\u001b[0;32m     <a href='vscode-notebook-cell:/c%3A/workspace/FGO_Scrip/dannytestboard.ipynb#X10sZmlsZQ%3D%3D?line=78'>79</a>\u001b[0m     sleep(\u001b[39m0.03\u001b[39m)\n\u001b[1;32m---> <a href='vscode-notebook-cell:/c%3A/workspace/FGO_Scrip/dannytestboard.ipynb#X10sZmlsZQ%3D%3D?line=79'>80</a>\u001b[0m     frame \u001b[39m=\u001b[39m getWindow_Img(hwnd)\n\u001b[0;32m     <a href='vscode-notebook-cell:/c%3A/workspace/FGO_Scrip/dannytestboard.ipynb#X10sZmlsZQ%3D%3D?line=80'>81</a>\u001b[0m     cv2\u001b[39m.\u001b[39mimshow(\u001b[39m\"\u001b[39m\u001b[39mscreen box\u001b[39m\u001b[39m\"\u001b[39m, frame)\n\u001b[0;32m     <a href='vscode-notebook-cell:/c%3A/workspace/FGO_Scrip/dannytestboard.ipynb#X10sZmlsZQ%3D%3D?line=81'>82</a>\u001b[0m     k \u001b[39m=\u001b[39m cv2\u001b[39m.\u001b[39mwaitKey(\u001b[39m30\u001b[39m)\u001b[39m&\u001b[39m\u001b[39m0xFF\u001b[39m \u001b[39m#64bits! need a mask\u001b[39;00m\n",
      "\u001b[1;32mc:\\workspace\\FGO_Scrip\\dannytestboard.ipynb Cell 8\u001b[0m in \u001b[0;36mgetWindow_Img\u001b[1;34m(hwnd)\u001b[0m\n\u001b[0;32m     <a href='vscode-notebook-cell:/c%3A/workspace/FGO_Scrip/dannytestboard.ipynb#X10sZmlsZQ%3D%3D?line=45'>46</a>\u001b[0m     x, y, width, height \u001b[39m=\u001b[39m getWindow_W_H(hwnd)        \n\u001b[0;32m     <a href='vscode-notebook-cell:/c%3A/workspace/FGO_Scrip/dannytestboard.ipynb#X10sZmlsZQ%3D%3D?line=46'>47</a>\u001b[0m \u001b[39m# 創造輸出圖層\u001b[39;00m\n\u001b[1;32m---> <a href='vscode-notebook-cell:/c%3A/workspace/FGO_Scrip/dannytestboard.ipynb#X10sZmlsZQ%3D%3D?line=47'>48</a>\u001b[0m hwindc \u001b[39m=\u001b[39m win32gui\u001b[39m.\u001b[39;49mGetWindowDC(hwnd)\n\u001b[0;32m     <a href='vscode-notebook-cell:/c%3A/workspace/FGO_Scrip/dannytestboard.ipynb#X10sZmlsZQ%3D%3D?line=48'>49</a>\u001b[0m srcdc \u001b[39m=\u001b[39m win32ui\u001b[39m.\u001b[39mCreateDCFromHandle(hwindc)\n\u001b[0;32m     <a href='vscode-notebook-cell:/c%3A/workspace/FGO_Scrip/dannytestboard.ipynb#X10sZmlsZQ%3D%3D?line=49'>50</a>\u001b[0m memdc \u001b[39m=\u001b[39m srcdc\u001b[39m.\u001b[39mCreateCompatibleDC()\n",
      "\u001b[1;31mKeyboardInterrupt\u001b[0m: "
     ]
    }
   ],
   "source": [
    "import numpy as np\n",
    "import cv2\n",
    "import win32gui\n",
    "import win32con\n",
    "import win32ui\n",
    "\n",
    "import re\n",
    "from time import sleep\n",
    "\n",
    "'''\n",
    "製作者：JN\n",
    "參考網址\n",
    "https://www.codeproject.com/Articles/20651/Capturing-Minimized-Window-A-Kid-s-Trick\n",
    "https://www.programcreek.com/python/example/62809/win32ui.CreateBitmap\n",
    "'''\n",
    "\n",
    "\n",
    "def FindWindow_bySearch(pattern):\n",
    "    window_list = []\n",
    "    win32gui.EnumWindows(lambda hWnd, param: param.append(hWnd), window_list)\n",
    "    for each in window_list:\n",
    "        if re.search(pattern, win32gui.GetWindowText(each)) is not None:\n",
    "            return each\n",
    "\n",
    "def getWindow_W_H(hwnd):\n",
    "    # 取得目標視窗的大小\n",
    "    left, top, right, bot = win32gui.GetWindowRect(hwnd)\n",
    "    width = right - left - 15\n",
    "    height = bot - top - 11\n",
    "    return (left, top, width, height)\n",
    "\n",
    "def getWindow_Img(hwnd):\n",
    "    # 將 hwnd 換成 WindowLong\n",
    "    s = win32gui.GetWindowLong(hwnd,win32con.GWL_EXSTYLE)\n",
    "    win32gui.SetWindowLong(hwnd, win32con.GWL_EXSTYLE, s|win32con.WS_EX_LAYERED)\n",
    "    # 判斷視窗是否最小化\n",
    "    show = win32gui.IsIconic(hwnd)\n",
    "    # 將視窗圖層屬性改變成透明    \n",
    "    # 還原視窗並拉到最前方\n",
    "    # 取消最大小化動畫\n",
    "    # 取得視窗寬高\n",
    "    if show == 1: \n",
    "        win32gui.SystemParametersInfo(win32con.SPI_SETANIMATION, 0)\n",
    "        win32gui.SetLayeredWindowAttributes(hwnd, 0, 0, win32con.LWA_ALPHA)\n",
    "        win32gui.ShowWindow(hwnd, win32con.SW_RESTORE)    \n",
    "        x, y, width, height = getWindow_W_H(hwnd)        \n",
    "    # 創造輸出圖層\n",
    "    hwindc = win32gui.GetWindowDC(hwnd)\n",
    "    srcdc = win32ui.CreateDCFromHandle(hwindc)\n",
    "    memdc = srcdc.CreateCompatibleDC()\n",
    "    bmp = win32ui.CreateBitmap()\n",
    "    # 取得視窗寬高\n",
    "    x, y, width, height = getWindow_W_H(hwnd)\n",
    "    # 如果視窗最小化，則移到Z軸最下方\n",
    "    if show == 1: win32gui.SetWindowPos(hwnd, win32con.HWND_BOTTOM, x, y, width, height, win32con.SWP_NOACTIVATE)\n",
    "    # 複製目標圖層，貼上到 bmp\n",
    "    bmp.CreateCompatibleBitmap(srcdc, width, height)\n",
    "    memdc.SelectObject(bmp)\n",
    "    memdc.BitBlt((0 , 0), (width, height), srcdc, (8, 3), win32con.SRCCOPY)\n",
    "    # 將 bitmap 轉換成 np\n",
    "    signedIntsArray = bmp.GetBitmapBits(True)\n",
    "    img = np.fromstring(signedIntsArray, dtype='uint8')\n",
    "    img.shape = (height, width, 4) #png，具有透明度的\n",
    "    # 釋放device content\n",
    "    srcdc.DeleteDC()\n",
    "    memdc.DeleteDC()\n",
    "    win32gui.ReleaseDC(hwnd, hwindc)\n",
    "    win32gui.DeleteObject(bmp.GetHandle())\n",
    "    # 還原目標屬性\n",
    "    if show == 1 :\n",
    "        win32gui.SetLayeredWindowAttributes(hwnd, 0, 255, win32con.LWA_ALPHA)\n",
    "        win32gui.SystemParametersInfo(win32con.SPI_SETANIMATION, 1)\n",
    "    # 回傳圖片\n",
    "    return img\n",
    "\n",
    "hwnd = 526456\n",
    "\n",
    "while True:\n",
    "    sleep(0.03)\n",
    "    frame = getWindow_Img(hwnd)\n",
    "    cv2.imshow(\"screen box\", frame)\n",
    "    k = cv2.waitKey(30)&0xFF #64bits! need a mask\n",
    "    if k ==27:\n",
    "        cv2.destroyAllWindows()\n",
    "        break"
   ]
  },
  {
   "cell_type": "code",
   "execution_count": 35,
   "metadata": {},
   "outputs": [],
   "source": [
    "import win32gui,win32ui,win32con\n",
    "from ctypes import windll\n",
    "from PIL import Image\n",
    "import cv2\n",
    "import numpy\n",
    "\n",
    "hWnd = 591804\n",
    "left,top,right,bot = win32gui.GetWindowRect(hWnd)\n",
    "width = right - left\n",
    "height = bot - top\n",
    "\n",
    "hWndDC = win32gui.GetWindowDC(hWnd)\n",
    "mfcDC = win32ui.CreateDCFromHandle(hWndDC)\n",
    "saveDC = mfcDC.CreateCompatibleDC()\n",
    "saveBitMap = win32ui.CreateBitmap()\n",
    "saveBitMap.CreateCompatibleBitmap(mfcDC,width,height)\n",
    "saveDC.SelectObject(saveBitMap)\n",
    "# saveDC.BitBlt((0,0),(width,height),mfcDC,(0,win32con.SRCCOPY))\n",
    "\n",
    "saveBitMap.SaveBitmapFile(saveDC,\"img_Winapi.bmp\")\n",
    "\n",
    "\n"
   ]
  },
  {
   "cell_type": "code",
   "execution_count": 38,
   "metadata": {},
   "outputs": [
    {
     "data": {
      "text/plain": [
       "1968496"
      ]
     },
     "execution_count": 38,
     "metadata": {},
     "output_type": "execute_result"
    }
   ],
   "source": [
    "win32gui.FindWindow(None, '小算盤')"
   ]
  },
  {
   "cell_type": "code",
   "execution_count": 10,
   "metadata": {},
   "outputs": [
    {
     "data": {
      "text/plain": [
       "67988"
      ]
     },
     "execution_count": 10,
     "metadata": {},
     "output_type": "execute_result"
    }
   ],
   "source": [
    "import win32gui\n",
    "win32gui.FindWindow(None, 'BlueStacks App Player')"
   ]
  },
  {
   "cell_type": "code",
   "execution_count": 37,
   "metadata": {},
   "outputs": [
    {
     "data": {
      "text/plain": [
       "24"
      ]
     },
     "execution_count": 37,
     "metadata": {},
     "output_type": "execute_result"
    }
   ],
   "source": [
    "from win32gui import *\n",
    "ShowWindow(526456, win32con.SW_MAXIMIZE)"
   ]
  },
  {
   "cell_type": "code",
   "execution_count": 4,
   "metadata": {},
   "outputs": [
    {
     "data": {
      "text/plain": [
       "{'b1c': None,\n",
       " 'b1p1': None,\n",
       " 'b1p2': None,\n",
       " 'b1p3': None,\n",
       " 'b2c': None,\n",
       " 'b2p1': None,\n",
       " 'b2p2': None,\n",
       " 'b2p3': None,\n",
       " 'b3c': 123,\n",
       " 'b3p1': None,\n",
       " 'b3p2': None,\n",
       " 'b3p3': None}"
      ]
     },
     "execution_count": 4,
     "metadata": {},
     "output_type": "execute_result"
    }
   ],
   "source": [
    "battleSkill = {'b1c': None, 'b1p1': None, 'b1p2': None, 'b1p3': None, \n",
    "                            'b2c': None, 'b2p1': None, 'b2p2': None, 'b2p3': None, \n",
    "                            'b3c': 123, 'b3p1': None, 'b3p2': None, 'b3p3': None}\n",
    "battleSkill"
   ]
  },
  {
   "cell_type": "code",
   "execution_count": 5,
   "metadata": {},
   "outputs": [
    {
     "data": {
      "text/plain": [
       "123"
      ]
     },
     "execution_count": 5,
     "metadata": {},
     "output_type": "execute_result"
    }
   ],
   "source": [
    "battleSkill['b3c']"
   ]
  },
  {
   "cell_type": "code",
   "execution_count": 2,
   "metadata": {},
   "outputs": [
    {
     "data": {
      "text/plain": [
       "dict"
      ]
     },
     "execution_count": 2,
     "metadata": {},
     "output_type": "execute_result"
    }
   ],
   "source": [
    "type(battleSkill)"
   ]
  },
  {
   "cell_type": "code",
   "execution_count": 6,
   "metadata": {},
   "outputs": [
    {
     "data": {
      "text/plain": [
       "'b1p1'"
      ]
     },
     "execution_count": 6,
     "metadata": {},
     "output_type": "execute_result"
    }
   ],
   "source": [
    "func = 'battle1'\n",
    "player = 'player1'\n",
    "k = func[0]+func[-1]+player[0]+player[-1]\n",
    "k"
   ]
  },
  {
   "cell_type": "code",
   "execution_count": 25,
   "metadata": {},
   "outputs": [],
   "source": [
    "import time\n",
    "import win32api, win32con, win32gui\n",
    "\n",
    "def doClick(x, y):\n",
    "    hwnd = 68000\n",
    "    long_position = win32api.MAKELONG(x, y) \n",
    "    win32gui.PostMessage(hwnd, win32con.WM_LBUTTONDOWN, win32con.MK_LBUTTON, long_position)\n",
    "    time.sleep(2)\n",
    "    win32gui.PostMessage(hwnd, win32con.WM_LBUTTONUP, win32con.MK_LBUTTON, long_position)\n",
    "\n",
    "doClick(0, 0)\n",
    "doClick(, 395)"
   ]
  },
  {
   "cell_type": "code",
   "execution_count": 38,
   "metadata": {},
   "outputs": [
    {
     "ename": "error",
     "evalue": "(0, 'SetForegroundWindow', 'No error message is available')",
     "output_type": "error",
     "traceback": [
      "\u001b[1;31m---------------------------------------------------------------------------\u001b[0m",
      "\u001b[1;31merror\u001b[0m                                     Traceback (most recent call last)",
      "\u001b[1;32mc:\\workspace\\FGO_Scrip\\dannytestboard.ipynb Cell 18\u001b[0m in \u001b[0;36m<cell line: 1>\u001b[1;34m()\u001b[0m\n\u001b[1;32m----> <a href='vscode-notebook-cell:/c%3A/workspace/FGO_Scrip/dannytestboard.ipynb#X25sZmlsZQ%3D%3D?line=0'>1</a>\u001b[0m win32gui\u001b[39m.\u001b[39;49mSetForegroundWindow(\u001b[39m67988\u001b[39;49m)\n",
      "\u001b[1;31merror\u001b[0m: (0, 'SetForegroundWindow', 'No error message is available')"
     ]
    }
   ],
   "source": [
    "shell.SendKeys('%')\n",
    "win32gui.SetForegroundWindow(67988)"
   ]
  },
  {
   "cell_type": "code",
   "execution_count": 74,
   "metadata": {},
   "outputs": [
    {
     "name": "stdout",
     "output_type": "stream",
     "text": [
      "{'Qt5154QWindowIcon': 68000}\n"
     ]
    }
   ],
   "source": [
    "import win32gui, win32ui, win32con, win32api, win32com.client\n",
    "from time import sleep\n",
    "\n",
    "\n",
    "VK_KEY_7 = 0x37\n",
    "VK_KEY_E = 0x45\n",
    "VK_KEY_A = 0x41\n",
    "\n",
    "\n",
    "\n",
    "def main():\n",
    "    window_name = 'BlueStacks App Player'\n",
    "    hwnd = get_hwnd(window_name)\n",
    "    shell = win32com.client.Dispatch(\"WScript.Shell\")\n",
    "    shell.SendKeys('%')\n",
    "    hwnd = 67988\n",
    "    win32gui.SetForegroundWindow(hwnd)\n",
    "    doClick(hwnd, 47, 358)\n",
    "    doClick(hwnd, 161, 356)\n",
    "    doClick(hwnd, 252, 364)\n",
    "\n",
    "    doClick(hwnd, 50, 50)\n",
    "    doClick(hwnd, 482, 242)\n",
    "    doClick(hwnd, 606, 240)\n",
    "    doClick(hwnd, 692, 373)\n",
    "    doClick(hwnd, 507, 372)\n",
    "    doClick(hwnd, 581, 369)\n",
    "    doClick(hwnd, 583, 299)\n",
    "    doClick(hwnd, 769, 434)\n",
    "\n",
    "\n",
    "\n",
    "\n",
    "\n",
    "def get_hwnd(window_name):\n",
    "    hwnd = win32gui.FindWindow(None, window_name)\n",
    "    print(get_inner_windows(hwnd))\n",
    "    hwnd = get_inner_windows(hwnd)['Qt5154QWindowIcon']\n",
    "    return hwnd\n",
    "\n",
    "\n",
    "def get_inner_windows(whnd1):\n",
    "    def callback(hwnd, hwnds):\n",
    "        if win32gui.IsWindowVisible(hwnd) and win32gui.IsWindowEnabled(hwnd):\n",
    "            hwnds[win32gui.GetClassName(hwnd)] = hwnd\n",
    "        return True\n",
    "    hwnds = {}\n",
    "    win32gui.EnumChildWindows(whnd1, callback, hwnds)\n",
    "    return hwnds\n",
    "\n",
    "\n",
    "def press_key(hwnd, key):\n",
    "    win32gui.PostMessage(hwnd, win32con.WM_KEYDOWN, key, 0)\n",
    "    sleep(2)\n",
    "\n",
    "\n",
    "def doClick(hwnd, x, y):\n",
    "    long_position = win32api.MAKELONG(x, y)\n",
    "    hWnd1= win32gui.FindWindowEx(67988, None, None, None)\n",
    "    win32gui.PostMessage(hWnd1, win32con.WM_LBUTTONDOWN, win32con.MK_LBUTTON, long_position)\n",
    "    time.sleep(1)\n",
    "    win32gui.PostMessage(hWnd1, win32con.WM_LBUTTONUP, None, long_position)\n",
    "\n",
    "\n",
    "main()"
   ]
  },
  {
   "cell_type": "code",
   "execution_count": 81,
   "metadata": {},
   "outputs": [],
   "source": [
    "import win32gui, win32api, win32con\n",
    "import time\n",
    "\n",
    "def click_pg(name, x, y):\n",
    "    hwnd = win32gui.FindWindow(None, name) # 265348\n",
    "    hwnd = win32gui.FindWindowEx(hwnd, None, None, None) # 330930\n",
    "    click = win32api.MAKELONG(x, y - 40)\n",
    "    win32gui.SendMessage(hwnd, win32con.WM_LBUTTONDOWN, win32con.MK_LBUTTON, click)\n",
    "    win32gui.SendMessage(hwnd, win32con.WM_LBUTTONUP, None, click)\n",
    "\n",
    "name = '小算盤'\n",
    "numpad = [[50, 340], [150, 340], [250, 340]]\n",
    "\n",
    "for i in numpad:\n",
    "    click_pg(name, i[0], i[1])\n",
    "    time.sleep(1)"
   ]
  },
  {
   "cell_type": "code",
   "execution_count": 84,
   "metadata": {},
   "outputs": [
    {
     "data": {
      "text/plain": [
       "0"
      ]
     },
     "execution_count": 84,
     "metadata": {},
     "output_type": "execute_result"
    }
   ],
   "source": [
    "hwnd = win32gui.FindWindow(None, 'BlueStacks App Player') # 265348\n",
    "hwnd = win32gui.FindWindowEx(hwnd, None, None, None) # 330930\n",
    "click = win32api.MAKELONG(482, 242)\n",
    "win32gui.SendMessage(hwnd, win32con.WM_LBUTTONDOWN, win32con.MK_LBUTTON, click)\n",
    "win32gui.SendMessage(hwnd, win32con.WM_LBUTTONUP, None, click)"
   ]
  },
  {
   "cell_type": "code",
   "execution_count": 95,
   "metadata": {},
   "outputs": [
    {
     "data": {
      "text/plain": [
       "0"
      ]
     },
     "execution_count": 95,
     "metadata": {},
     "output_type": "execute_result"
    }
   ],
   "source": [
    "hwnd = win32gui.FindWindow(None, 'BlueStacks App Player') # 67988\n",
    "hwnd = win32gui.FindWindowEx(hwnd, None, None, None) # 68000\n",
    "click = win32api.MAKELONG(482, 242)\n",
    "win32gui.SendMessage(hwnd, win32con.WM_LBUTTONDOWN, win32con.MK_LBUTTON, click)\n",
    "win32gui.SendMessage(hwnd, win32con.WM_LBUTTONUP, None, click)\n",
    "sleep(1)\n",
    "win32gui.SendMessage(hwnd, win32con.WM_LBUTTONDOWN, win32con.MK_LBUTTON, click)\n",
    "win32gui.SendMessage(hwnd, win32con.WM_LBUTTONUP, None, click)\n",
    "sleep(1)\n",
    "win32gui.SendMessage(hwnd, win32con.WM_LBUTTONDOWN, win32con.MK_LBUTTON, click)\n",
    "win32gui.SendMessage(hwnd, win32con.WM_LBUTTONUP, None, click)\n",
    "sleep(1)\n",
    "win32gui.SendMessage(hwnd, win32con.WM_LBUTTONDOWN, win32con.MK_LBUTTON, click)\n",
    "win32gui.SendMessage(hwnd, win32con.WM_LBUTTONUP, None, click)\n",
    "sleep(1)\n",
    "win32gui.SendMessage(hwnd, win32con.WM_LBUTTONDOWN, win32con.MK_LBUTTON, click)\n",
    "win32gui.SendMessage(hwnd, win32con.WM_LBUTTONUP, None, click)\n"
   ]
  }
 ],
 "metadata": {
  "kernelspec": {
   "display_name": "Python 3.8.10 64-bit",
   "language": "python",
   "name": "python3"
  },
  "language_info": {
   "codemirror_mode": {
    "name": "ipython",
    "version": 3
   },
   "file_extension": ".py",
   "mimetype": "text/x-python",
   "name": "python",
   "nbconvert_exporter": "python",
   "pygments_lexer": "ipython3",
   "version": "3.8.10"
  },
  "orig_nbformat": 4,
  "vscode": {
   "interpreter": {
    "hash": "f544ce1a915a9875fad91c894e2c0bcad4b7a79945aa6027ef3ad27810072aa6"
   }
  }
 },
 "nbformat": 4,
 "nbformat_minor": 2
}
